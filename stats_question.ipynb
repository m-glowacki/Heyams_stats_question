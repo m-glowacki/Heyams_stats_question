{
 "cells": [
  {
   "cell_type": "code",
   "execution_count": 339,
   "metadata": {},
   "outputs": [],
   "source": [
    "import numpy as np\n",
    "import pandas as pd\n",
    "import matplotlib.pyplot as plt"
   ]
  },
  {
   "cell_type": "code",
   "execution_count": 318,
   "metadata": {},
   "outputs": [],
   "source": [
    "#list the variables:\n",
    "times = [0,30,120,240,360,14400]\n",
    "doses = [20,100]\n",
    "receptors = [\"A549-1\",\"A549-2\",\"A549-3\"]\n",
    "\n",
    "\n",
    "#data:\n",
    "data_20 = np.array([127.17,117.28,114.59,\n",
    "128.55,130.2,132.86,\n",
    "142.35,113.91,138.02,\n",
    "172.8,121.29,133.6,\n",
    "131.85,114.38,114.73,\n",
    "144.83,122.45,137.77])\n",
    "\n",
    "data_100 = np.array([127.17,117.28,114.59,\n",
    "129.05,134.61,131.62,\n",
    "140.2,130.94,132.76,\n",
    "153.64,140.6,137.46,\n",
    "143.54,115.82,122.97,\n",
    "157.85,125.28,145.03])"
   ]
  },
  {
   "cell_type": "code",
   "execution_count": 319,
   "metadata": {},
   "outputs": [],
   "source": [
    "#construct tables and inspect the mean\n",
    "\n",
    "df_20 = pd.DataFrame(index=times,columns=receptors, data=data_20.reshape(6,3))\n",
    "df_20[\"mean\"]=df_20.mean(axis=1)\n",
    "\n",
    "df_100 = pd.DataFrame(index=times,columns=receptors, data=data_100.reshape(6,3))\n",
    "df_100[\"mean\"]=df_100.mean(axis=1)"
   ]
  },
  {
   "cell_type": "code",
   "execution_count": 320,
   "metadata": {},
   "outputs": [
    {
     "data": {
      "text/html": [
       "<div>\n",
       "<style scoped>\n",
       "    .dataframe tbody tr th:only-of-type {\n",
       "        vertical-align: middle;\n",
       "    }\n",
       "\n",
       "    .dataframe tbody tr th {\n",
       "        vertical-align: top;\n",
       "    }\n",
       "\n",
       "    .dataframe thead th {\n",
       "        text-align: right;\n",
       "    }\n",
       "</style>\n",
       "<table border=\"1\" class=\"dataframe\">\n",
       "  <thead>\n",
       "    <tr style=\"text-align: right;\">\n",
       "      <th></th>\n",
       "      <th>A549-1</th>\n",
       "      <th>A549-2</th>\n",
       "      <th>A549-3</th>\n",
       "      <th>mean</th>\n",
       "    </tr>\n",
       "  </thead>\n",
       "  <tbody>\n",
       "    <tr>\n",
       "      <th>0</th>\n",
       "      <td>127.17</td>\n",
       "      <td>117.28</td>\n",
       "      <td>114.59</td>\n",
       "      <td>119.680000</td>\n",
       "    </tr>\n",
       "    <tr>\n",
       "      <th>30</th>\n",
       "      <td>128.55</td>\n",
       "      <td>130.20</td>\n",
       "      <td>132.86</td>\n",
       "      <td>130.536667</td>\n",
       "    </tr>\n",
       "    <tr>\n",
       "      <th>120</th>\n",
       "      <td>142.35</td>\n",
       "      <td>113.91</td>\n",
       "      <td>138.02</td>\n",
       "      <td>131.426667</td>\n",
       "    </tr>\n",
       "  </tbody>\n",
       "</table>\n",
       "</div>"
      ],
      "text/plain": [
       "     A549-1  A549-2  A549-3        mean\n",
       "0    127.17  117.28  114.59  119.680000\n",
       "30   128.55  130.20  132.86  130.536667\n",
       "120  142.35  113.91  138.02  131.426667"
      ]
     },
     "execution_count": 320,
     "metadata": {},
     "output_type": "execute_result"
    }
   ],
   "source": [
    "df_20.head(3)"
   ]
  },
  {
   "cell_type": "code",
   "execution_count": 321,
   "metadata": {},
   "outputs": [
    {
     "data": {
      "text/html": [
       "<div>\n",
       "<style scoped>\n",
       "    .dataframe tbody tr th:only-of-type {\n",
       "        vertical-align: middle;\n",
       "    }\n",
       "\n",
       "    .dataframe tbody tr th {\n",
       "        vertical-align: top;\n",
       "    }\n",
       "\n",
       "    .dataframe thead th {\n",
       "        text-align: right;\n",
       "    }\n",
       "</style>\n",
       "<table border=\"1\" class=\"dataframe\">\n",
       "  <thead>\n",
       "    <tr style=\"text-align: right;\">\n",
       "      <th></th>\n",
       "      <th>A549-1</th>\n",
       "      <th>A549-2</th>\n",
       "      <th>A549-3</th>\n",
       "      <th>mean</th>\n",
       "    </tr>\n",
       "  </thead>\n",
       "  <tbody>\n",
       "    <tr>\n",
       "      <th>0</th>\n",
       "      <td>127.17</td>\n",
       "      <td>117.28</td>\n",
       "      <td>114.59</td>\n",
       "      <td>119.680000</td>\n",
       "    </tr>\n",
       "    <tr>\n",
       "      <th>30</th>\n",
       "      <td>129.05</td>\n",
       "      <td>134.61</td>\n",
       "      <td>131.62</td>\n",
       "      <td>131.760000</td>\n",
       "    </tr>\n",
       "    <tr>\n",
       "      <th>120</th>\n",
       "      <td>140.20</td>\n",
       "      <td>130.94</td>\n",
       "      <td>132.76</td>\n",
       "      <td>134.633333</td>\n",
       "    </tr>\n",
       "  </tbody>\n",
       "</table>\n",
       "</div>"
      ],
      "text/plain": [
       "     A549-1  A549-2  A549-3        mean\n",
       "0    127.17  117.28  114.59  119.680000\n",
       "30   129.05  134.61  131.62  131.760000\n",
       "120  140.20  130.94  132.76  134.633333"
      ]
     },
     "execution_count": 321,
     "metadata": {},
     "output_type": "execute_result"
    }
   ],
   "source": [
    "df_100.head(3)"
   ]
  },
  {
   "cell_type": "code",
   "execution_count": 322,
   "metadata": {},
   "outputs": [],
   "source": [
    "mean_intensity = np.concatenate((np.array(df_20[\"mean\"]),np.array(df_100[\"mean\"])))"
   ]
  },
  {
   "cell_type": "code",
   "execution_count": 333,
   "metadata": {},
   "outputs": [],
   "source": [
    "df_mean = pd.DataFrame({\"time\":times, \"dose_20\": df_20[\"mean\"], \"dose_100\": df_100[\"mean\"]}).set_index(\"time\")\n"
   ]
  },
  {
   "cell_type": "code",
   "execution_count": 335,
   "metadata": {},
   "outputs": [
    {
     "data": {
      "text/html": [
       "<div>\n",
       "<style scoped>\n",
       "    .dataframe tbody tr th:only-of-type {\n",
       "        vertical-align: middle;\n",
       "    }\n",
       "\n",
       "    .dataframe tbody tr th {\n",
       "        vertical-align: top;\n",
       "    }\n",
       "\n",
       "    .dataframe thead th {\n",
       "        text-align: right;\n",
       "    }\n",
       "</style>\n",
       "<table border=\"1\" class=\"dataframe\">\n",
       "  <thead>\n",
       "    <tr style=\"text-align: right;\">\n",
       "      <th></th>\n",
       "      <th>dose_20</th>\n",
       "      <th>dose_100</th>\n",
       "    </tr>\n",
       "    <tr>\n",
       "      <th>time</th>\n",
       "      <th></th>\n",
       "      <th></th>\n",
       "    </tr>\n",
       "  </thead>\n",
       "  <tbody>\n",
       "    <tr>\n",
       "      <th>0</th>\n",
       "      <td>119.680000</td>\n",
       "      <td>119.680000</td>\n",
       "    </tr>\n",
       "    <tr>\n",
       "      <th>30</th>\n",
       "      <td>130.536667</td>\n",
       "      <td>131.760000</td>\n",
       "    </tr>\n",
       "    <tr>\n",
       "      <th>120</th>\n",
       "      <td>131.426667</td>\n",
       "      <td>134.633333</td>\n",
       "    </tr>\n",
       "    <tr>\n",
       "      <th>240</th>\n",
       "      <td>142.563333</td>\n",
       "      <td>143.900000</td>\n",
       "    </tr>\n",
       "    <tr>\n",
       "      <th>360</th>\n",
       "      <td>120.320000</td>\n",
       "      <td>127.443333</td>\n",
       "    </tr>\n",
       "    <tr>\n",
       "      <th>14400</th>\n",
       "      <td>135.016667</td>\n",
       "      <td>142.720000</td>\n",
       "    </tr>\n",
       "  </tbody>\n",
       "</table>\n",
       "</div>"
      ],
      "text/plain": [
       "          dose_20    dose_100\n",
       "time                         \n",
       "0      119.680000  119.680000\n",
       "30     130.536667  131.760000\n",
       "120    131.426667  134.633333\n",
       "240    142.563333  143.900000\n",
       "360    120.320000  127.443333\n",
       "14400  135.016667  142.720000"
      ]
     },
     "execution_count": 335,
     "metadata": {},
     "output_type": "execute_result"
    }
   ],
   "source": [
    "#mean intensity for each time step at given dose:\n",
    "\n",
    "df_mean"
   ]
  },
  {
   "cell_type": "code",
   "execution_count": 325,
   "metadata": {},
   "outputs": [],
   "source": [
    "import statsmodels.api as sm\n",
    "from statsmodels.formula.api import ols"
   ]
  },
  {
   "cell_type": "code",
   "execution_count": 348,
   "metadata": {},
   "outputs": [],
   "source": [
    "#some array operations to format data \n",
    "\n",
    "dose=np.repeat([\"20\", \"100\"], 18)\n",
    "time=np.tile(np.repeat(times, 3), 2)\n",
    "data=np.concatenate((data_20,data_100))"
   ]
  },
  {
   "cell_type": "code",
   "execution_count": 349,
   "metadata": {},
   "outputs": [
    {
     "data": {
      "text/html": [
       "<div>\n",
       "<style scoped>\n",
       "    .dataframe tbody tr th:only-of-type {\n",
       "        vertical-align: middle;\n",
       "    }\n",
       "\n",
       "    .dataframe tbody tr th {\n",
       "        vertical-align: top;\n",
       "    }\n",
       "\n",
       "    .dataframe thead th {\n",
       "        text-align: right;\n",
       "    }\n",
       "</style>\n",
       "<table border=\"1\" class=\"dataframe\">\n",
       "  <thead>\n",
       "    <tr style=\"text-align: right;\">\n",
       "      <th></th>\n",
       "      <th>dose</th>\n",
       "      <th>time</th>\n",
       "      <th>intensity</th>\n",
       "    </tr>\n",
       "  </thead>\n",
       "  <tbody>\n",
       "    <tr>\n",
       "      <th>0</th>\n",
       "      <td>20</td>\n",
       "      <td>0</td>\n",
       "      <td>127.17</td>\n",
       "    </tr>\n",
       "    <tr>\n",
       "      <th>1</th>\n",
       "      <td>20</td>\n",
       "      <td>0</td>\n",
       "      <td>117.28</td>\n",
       "    </tr>\n",
       "    <tr>\n",
       "      <th>2</th>\n",
       "      <td>20</td>\n",
       "      <td>0</td>\n",
       "      <td>114.59</td>\n",
       "    </tr>\n",
       "    <tr>\n",
       "      <th>3</th>\n",
       "      <td>20</td>\n",
       "      <td>30</td>\n",
       "      <td>128.55</td>\n",
       "    </tr>\n",
       "    <tr>\n",
       "      <th>4</th>\n",
       "      <td>20</td>\n",
       "      <td>30</td>\n",
       "      <td>130.20</td>\n",
       "    </tr>\n",
       "  </tbody>\n",
       "</table>\n",
       "</div>"
      ],
      "text/plain": [
       "  dose  time  intensity\n",
       "0   20     0     127.17\n",
       "1   20     0     117.28\n",
       "2   20     0     114.59\n",
       "3   20    30     128.55\n",
       "4   20    30     130.20"
      ]
     },
     "execution_count": 349,
     "metadata": {},
     "output_type": "execute_result"
    }
   ],
   "source": [
    "#inspect formatted data\n",
    "\n",
    "df = pd.DataFrame({'dose': dose,\n",
    "                   'time': time,\n",
    "                   'intensity': data})\n",
    "\n",
    "df.head(5)"
   ]
  },
  {
   "cell_type": "code",
   "execution_count": 350,
   "metadata": {},
   "outputs": [
    {
     "data": {
      "text/html": [
       "<div>\n",
       "<style scoped>\n",
       "    .dataframe tbody tr th:only-of-type {\n",
       "        vertical-align: middle;\n",
       "    }\n",
       "\n",
       "    .dataframe tbody tr th {\n",
       "        vertical-align: top;\n",
       "    }\n",
       "\n",
       "    .dataframe thead th {\n",
       "        text-align: right;\n",
       "    }\n",
       "</style>\n",
       "<table border=\"1\" class=\"dataframe\">\n",
       "  <thead>\n",
       "    <tr style=\"text-align: right;\">\n",
       "      <th></th>\n",
       "      <th>sum_sq</th>\n",
       "      <th>df</th>\n",
       "      <th>F</th>\n",
       "      <th>PR(&gt;F)</th>\n",
       "    </tr>\n",
       "  </thead>\n",
       "  <tbody>\n",
       "    <tr>\n",
       "      <th>C(dose)</th>\n",
       "      <td>106.021344</td>\n",
       "      <td>1.0</td>\n",
       "      <td>0.682811</td>\n",
       "      <td>0.416760</td>\n",
       "    </tr>\n",
       "    <tr>\n",
       "      <th>C(time)</th>\n",
       "      <td>2352.136267</td>\n",
       "      <td>5.0</td>\n",
       "      <td>3.029701</td>\n",
       "      <td>0.029339</td>\n",
       "    </tr>\n",
       "    <tr>\n",
       "      <th>C(dose):C(time)</th>\n",
       "      <td>79.452389</td>\n",
       "      <td>5.0</td>\n",
       "      <td>0.102340</td>\n",
       "      <td>0.990698</td>\n",
       "    </tr>\n",
       "    <tr>\n",
       "      <th>Residual</th>\n",
       "      <td>3726.524600</td>\n",
       "      <td>24.0</td>\n",
       "      <td>NaN</td>\n",
       "      <td>NaN</td>\n",
       "    </tr>\n",
       "  </tbody>\n",
       "</table>\n",
       "</div>"
      ],
      "text/plain": [
       "                      sum_sq    df         F    PR(>F)\n",
       "C(dose)           106.021344   1.0  0.682811  0.416760\n",
       "C(time)          2352.136267   5.0  3.029701  0.029339\n",
       "C(dose):C(time)    79.452389   5.0  0.102340  0.990698\n",
       "Residual         3726.524600  24.0       NaN       NaN"
      ]
     },
     "execution_count": 350,
     "metadata": {},
     "output_type": "execute_result"
    }
   ],
   "source": [
    "#define our model and test stat: 2-way ANOVA (f-testing)\n",
    "\n",
    "model = ols('intensity ~ C(dose) + C(time) + C(dose):C(time)', data=df).fit()\n",
    "df_stat = sm.stats.anova_lm(model, typ=2)\n",
    "df_stat"
   ]
  },
  {
   "cell_type": "code",
   "execution_count": 342,
   "metadata": {},
   "outputs": [
    {
     "name": "stdout",
     "output_type": "stream",
     "text": [
      "p-val (dose)=0.417\n",
      "p-val (time)=0.029\n",
      "p-val (dose*time)=0.991\n"
     ]
    }
   ],
   "source": [
    "#P-values for all degrees of freedom and interation\n",
    "\n",
    "variables=[\"dose\", \"time\", \"dose*time\"]\n",
    "\n",
    "for i,j in zip(range(0,3), vars):\n",
    "    print(f\"p-val ({j})={np.round(df_stat['PR(>F)'][i],3)}\")"
   ]
  },
  {
   "cell_type": "code",
   "execution_count": 356,
   "metadata": {},
   "outputs": [],
   "source": [
    "import statistics\n",
    "import scipy.stats as stats"
   ]
  },
  {
   "cell_type": "code",
   "execution_count": 352,
   "metadata": {},
   "outputs": [],
   "source": [
    "mean = df[\"intensity\"].mean()\n",
    "std = statistics.stdev(df[\"intensity\"])"
   ]
  },
  {
   "cell_type": "code",
   "execution_count": 376,
   "metadata": {},
   "outputs": [
    {
     "data": {
      "image/png": "[encoded data removed]",
      "text/plain": [
       "<Figure size 432x288 with 1 Axes>"
      ]
     },
     "metadata": {
      "needs_background": "light"
     },
     "output_type": "display_data"
    }
   ],
   "source": [
    "plt.figure()\n",
    "x = np.linspace(mean - 3*std, mean + 3*std, 100)\n",
    "plt.vlines(mean,0,0.03,label=\"Mean\")\n",
    "plt.plot(x, stats.norm.pdf(x, mean, std))\n",
    "plt.xlabel(\"time\")\n",
    "plt.ylabel(\"density\")\n",
    "plt.legend()\n",
    "plt.show()"
   ]
  },
  {
   "cell_type": "code",
   "execution_count": 386,
   "metadata": {},
   "outputs": [],
   "source": [
    "#perform multiwise comparisons:\n",
    "\n",
    "from statsmodels.stats.multicomp import pairwise_tukeyhsd\n",
    "\n",
    "m_comp_dose = pairwise_tukeyhsd(endog=df[\"intensity\"], groups=df['dose'], alpha=0.05)\n",
    "m_comp_time = pairwise_tukeyhsd(endog=df[\"intensity\"], groups=df['time'], alpha=0.05)\n",
    "\n"
   ]
  },
  {
   "cell_type": "code",
   "execution_count": 387,
   "metadata": {},
   "outputs": [
    {
     "name": "stdout",
     "output_type": "stream",
     "text": [
      "Multiple Comparison of Means - Tukey HSD, FWER=0.05\n",
      "===================================================\n",
      "group1 group2 meandiff p-adj   lower  upper  reject\n",
      "---------------------------------------------------\n",
      "   100     20  -3.4322 0.4495 -12.549 5.6845  False\n",
      "---------------------------------------------------\n"
     ]
    }
   ],
   "source": [
    "print(m_comp_dose)"
   ]
  },
  {
   "cell_type": "markdown",
   "metadata": {},
   "source": [
    "As already expected the null hypothesis is not rejected when considering only the dose."
   ]
  },
  {
   "cell_type": "code",
   "execution_count": 388,
   "metadata": {
    "scrolled": true
   },
   "outputs": [
    {
     "name": "stdout",
     "output_type": "stream",
     "text": [
      " Multiple Comparison of Means - Tukey HSD, FWER=0.05 \n",
      "=====================================================\n",
      "group1 group2 meandiff p-adj   lower    upper  reject\n",
      "-----------------------------------------------------\n",
      "     0     30  11.4683 0.5155   -8.584 31.5207  False\n",
      "     0    120    13.35 0.3531  -6.7024 33.4024  False\n",
      "     0    240  23.5517  0.014   3.4993  43.604   True\n",
      "     0    360   4.2017    0.9 -15.8507  24.254  False\n",
      "     0  14400  19.1883 0.0671   -0.864 39.2407  False\n",
      "    30    120   1.8817    0.9 -18.1707  21.934  False\n",
      "    30    240  12.0833 0.4625   -7.969 32.1357  False\n",
      "    30    360  -7.2667 0.8663  -27.319 12.7857  False\n",
      "    30  14400     7.72 0.8284 -12.3324 27.7724  False\n",
      "   120    240  10.2017 0.6212  -9.8507  30.254  False\n",
      "   120    360  -9.1483 0.7092 -29.2007  10.904  False\n",
      "   120  14400   5.8383    0.9  -14.214 25.8907  False\n",
      "   240    360   -19.35 0.0636 -39.4024  0.7024  False\n",
      "   240  14400  -4.3633    0.9 -24.4157  15.689  False\n",
      "   360  14400  14.9867 0.2363  -5.0657  35.039  False\n",
      "-----------------------------------------------------\n"
     ]
    }
   ],
   "source": [
    "print(m_comp_time)"
   ]
  },
  {
   "cell_type": "markdown",
   "metadata": {},
   "source": [
    "This result suggests a signficent change in the mean occurs between 0 and 240 minutes.\n",
    "I would suggest more granular time intervals for a more accurate time measurement."
   ]
  },
  {
   "cell_type": "code",
   "execution_count": null,
   "metadata": {},
   "outputs": [],
   "source": []
  }
 ],
 "metadata": {
  "kernelspec": {
   "display_name": "Python 3",
   "language": "python",
   "name": "python3"
  },
  "language_info": {
   "codemirror_mode": {
    "name": "ipython",
    "version": 3
   },
   "file_extension": ".py",
   "mimetype": "text/x-python",
   "name": "python",
   "nbconvert_exporter": "python",
   "pygments_lexer": "ipython3",
   "version": "3.8.3"
  }
 },
 "nbformat": 4,
 "nbformat_minor": 4
}
